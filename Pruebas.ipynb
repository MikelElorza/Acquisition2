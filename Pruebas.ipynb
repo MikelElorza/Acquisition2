{
 "cells": [
  {
   "cell_type": "code",
   "execution_count": 6,
   "metadata": {},
   "outputs": [],
   "source": [
    "import sys\n",
    "import os\n",
    "import time\n",
    "import numpy as np\n",
    "from snAPI.Main import *\n",
    "import Motor_f as mot"
   ]
  },
  {
   "cell_type": "code",
   "execution_count": 7,
   "metadata": {},
   "outputs": [],
   "source": [
    "def XY_scan(handlex,handley,x0,xf,Nx,y0,yf,Ny,wait,folder):# positions in micrometers\n",
    "    \n",
    "    #Create the scanning pattern (it is important to be ordered to minimize displacements)\n",
    "    xs=np.linspace(x0,xf,Nx)\n",
    "    ys=np.linspace(y0,yf,Ny)\n",
    "    XY=np.meshgrid(xs,ys)\n",
    "    Order=np.zeros_like(XY[0])\n",
    "    for i in range(0,np.shape(XY[0])[0]):\n",
    "        for j in range(0,np.shape(XY[0])[1]):\n",
    "            if j%2==0:\n",
    "                Order[i,j]=i+Ny*j\n",
    "            else:\n",
    "                Order[i,j]=Nx-i-1+Ny*j\n",
    "    xx,yy,o=XY[0].flatten(),XY[1].flatten(),Order.flatten()\n",
    "    xsorted=[x for _, x in sorted(zip(o,xx))]\n",
    "    ysorted=[x for _, x in sorted(zip(o, yy))]\n",
    "    pairs=np.vstack((xsorted,ysorted)).T\n",
    "    # The points of the scan are saved at pairs (ordered)\n",
    "    i=0\n",
    "    for point in pairs:\n",
    "        \n",
    "        mot.move_abs_xy(handlex,point[0]/1000) #move functions work in milimeters\n",
    "        mot.move_abs_xy(handley,point[1]/1000)\n",
    "        time.sleep(wait)\n",
    "        sn.setPTUFilePath(\"./Data/{}/PTU_{:.2f}_{:.2f}.ptu\".format(folder,point[0],point[1]))\n",
    "        sn.histogram.setRefChannel(0)\n",
    "        sn.histogram.setBinWidth(1000)\n",
    "        sn.histogram.measure(1000,savePTU=True)\n",
    "        sn.histogram.getData()\n",
    "        \n",
    "        i+=1\n",
    "                \n",
    "    return True"
   ]
  },
  {
   "cell_type": "code",
   "execution_count": 3,
   "metadata": {},
   "outputs": [
    {
     "name": "stdout",
     "output_type": "stream",
     "text": [
      "---- Connecting PDXC motor ----\n",
      "Devices=[['01403418', '0403&6015&THORLABS PDXC 1.51&THORLABS&COM11&COM'], ['01404934', '0403&6015&THORLABS PDXC 1.51&THORLABS&COM10&COM']]\n",
      "connect  01403418\n",
      "Found PDX1 stage\n",
      "-- Stage settings --\n",
      "-  closed loop mode  -\n",
      "set loop to closed loop\n",
      "-  Manual Mode  -\n",
      "set trigger mode to manual mode\n",
      "set PositionCalibration home\n",
      "get CalibrationIsCompleted: done\n",
      "set TargetSpeed to 10\n",
      "---- Connecting PDXC motor ----\n",
      "Devices=[['01403418', '0403&6015&THORLABS PDXC 1.51&THORLABS&COM11&COM'], ['01404934', '0403&6015&THORLABS PDXC 1.51&THORLABS&COM10&COM']]\n",
      "connect  01404934\n",
      "Found PDX1 stage\n",
      "-- Stage settings --\n",
      "-  closed loop mode  -\n",
      "set loop to closed loop\n",
      "-  Manual Mode  -\n",
      "set trigger mode to manual mode\n",
      "set PositionCalibration home\n",
      "get CalibrationIsCompleted: done\n",
      "set TargetSpeed to 10\n",
      "Found Device 1 SN: 61516 (T-NA08A25) -> Connection 1 (Binary Serial port: COM5) devices\n",
      "-Homed-\n"
     ]
    }
   ],
   "source": [
    "xdrive=mot.connectX()\n",
    "ydrive=mot.connectY()\n",
    "zdrive=mot.connectZ()"
   ]
  },
  {
   "cell_type": "code",
   "execution_count": 9,
   "metadata": {},
   "outputs": [
    {
     "data": {
      "text/plain": [
       "True"
      ]
     },
     "execution_count": 9,
     "metadata": {},
     "output_type": "execute_result"
    }
   ],
   "source": [
    "sn = snAPI(libType=LibType.HH)\n",
    "sn.getDevice()\n",
    "sn.initDevice(MeasMode.T2)"
   ]
  },
  {
   "cell_type": "code",
   "execution_count": 10,
   "metadata": {},
   "outputs": [
    {
     "data": {
      "text/plain": [
       "True"
      ]
     },
     "execution_count": 10,
     "metadata": {},
     "output_type": "execute_result"
    }
   ],
   "source": [
    "XY_scan(xdrive,ydrive,0,1,5,0,1,5,1,'Trial')"
   ]
  },
  {
   "cell_type": "code",
   "execution_count": 11,
   "metadata": {},
   "outputs": [
    {
     "data": {
      "text/plain": [
       "True"
      ]
     },
     "execution_count": 11,
     "metadata": {},
     "output_type": "execute_result"
    }
   ],
   "source": [
    "\n"
   ]
  },
  {
   "cell_type": "code",
   "execution_count": 12,
   "metadata": {},
   "outputs": [],
   "source": [
    "sn.setPTUFilePath(\"./PTU.ptu\")\n",
    "sn.histogram.setRefChannel(0)\n",
    "sn.histogram.setBinWidth(10000)\n",
    "sn.histogram.measure(10000,savePTU=True)\n",
    "data, bins = sn.histogram.getData()"
   ]
  },
  {
   "cell_type": "code",
   "execution_count": null,
   "metadata": {},
   "outputs": [],
   "source": []
  }
 ],
 "metadata": {
  "kernelspec": {
   "display_name": "Python 3 (ipykernel)",
   "language": "python",
   "name": "python3"
  },
  "language_info": {
   "codemirror_mode": {
    "name": "ipython",
    "version": 3
   },
   "file_extension": ".py",
   "mimetype": "text/x-python",
   "name": "python",
   "nbconvert_exporter": "python",
   "pygments_lexer": "ipython3",
   "version": "3.11.4"
  },
  "toc": {
   "base_numbering": 1,
   "nav_menu": {},
   "number_sections": true,
   "sideBar": true,
   "skip_h1_title": false,
   "title_cell": "Table of Contents",
   "title_sidebar": "Contents",
   "toc_cell": false,
   "toc_position": {},
   "toc_section_display": true,
   "toc_window_display": false
  },
  "vscode": {
   "interpreter": {
    "hash": "369f2c481f4da34e4445cda3fffd2e751bd1c4d706f27375911949ba6bb62e1c"
   }
  }
 },
 "nbformat": 4,
 "nbformat_minor": 2
}
