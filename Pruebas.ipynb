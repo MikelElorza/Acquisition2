{
 "cells": [
  {
   "cell_type": "code",
   "execution_count": 6,
   "metadata": {},
   "outputs": [],
   "source": [
    "import sys\n",
    "import os\n",
    "import time\n",
    "import numpy as np\n",
    "from snAPI.Main import *\n",
    "import Motor_f as mot"
   ]
  },
  {
   "cell_type": "code",
   "execution_count": 7,
   "metadata": {},
   "outputs": [],
   "source": [
    "def XY_scan(handlex,handley,x0,xf,Nx,y0,yf,Ny,wait,folder):# positions in micrometers\n",
    "    \n",
    "    #Create the scanning pattern (it is important to be ordered to minimize displacements)\n",
    "    xs=np.linspace(x0,xf,Nx)\n",
    "    ys=np.linspace(y0,yf,Ny)\n",
    "    XY=np.meshgrid(xs,ys)\n",
    "    Order=np.zeros_like(XY[0])\n",
    "    for i in range(0,np.shape(XY[0])[0]):\n",
    "        for j in range(0,np.shape(XY[0])[1]):\n",
    "            if j%2==0:\n",
    "                Order[i,j]=i+Ny*j\n",
    "            else:\n",
    "                Order[i,j]=Nx-i-1+Ny*j\n",
    "    xx,yy,o=XY[0].flatten(),XY[1].flatten(),Order.flatten()\n",
    "    xsorted=[x for _, x in sorted(zip(o,xx))]\n",
    "    ysorted=[x for _, x in sorted(zip(o, yy))]\n",
    "    pairs=np.vstack((xsorted,ysorted)).T\n",
    "    # The points of the scan are saved at pairs (ordered)\n",
    "    i=0\n",
    "    for point in pairs:\n",
    "        \n",
    "        mot.move_abs_xy(handlex,point[0]/1000) #move functions work in milimeters\n",
    "        mot.move_abs_xy(handley,point[1]/1000)\n",
    "        time.sleep(wait)\n",
    "        sn.setPTUFilePath(\"./Data/{}/PTU_{:.2f}_{:.2f}.ptu\".format(folder,point[0],point[1]))\n",
    "        sn.histogram.setRefChannel(0)\n",
    "        sn.histogram.setBinWidth(1000)\n",
    "        sn.histogram.measure(1000,savePTU=True)\n",
    "        sn.histogram.getData()\n",
    "        \n",
    "        i+=1\n",
    "                \n",
    "    return True"
   ]
  },
  {
   "cell_type": "code",
   "execution_count": 8,
   "metadata": {},
   "outputs": [
    {
     "name": "stdout",
     "output_type": "stream",
     "text": [
      "---- Connecting PDXC motor ----\n",
      "Devices=[['01403418', '0403&6015&THORLABS PDXC 1.51&THORLABS&COM11&COM'], ['01404934', '0403&6015&THORLABS PDXC 1.51&THORLABS&COM10&COM']]\n",
      "connect  01403418\n",
      "open  01403418  failed\n",
      "Warning: name 'exit' is not defined\n",
      "---- Connecting PDXC motor ----\n",
      "Devices=[['01403418', '0403&6015&THORLABS PDXC 1.51&THORLABS&COM11&COM'], ['01404934', '0403&6015&THORLABS PDXC 1.51&THORLABS&COM10&COM']]\n",
      "connect  01404934\n",
      "open  01404934  failed\n",
      "Warning: name 'exit' is not defined\n"
     ]
    },
    {
     "ename": "SerialPortBusyException",
     "evalue": "SerialPortBusyException: Cannot open serial port: Port is likely already opened by another application. Please close the application that is using the port.",
     "output_type": "error",
     "traceback": [
      "\u001b[1;31m---------------------------------------------------------------------------\u001b[0m",
      "\u001b[1;31mSerialPortBusyException\u001b[0m                   Traceback (most recent call last)",
      "Cell \u001b[1;32mIn[8], line 3\u001b[0m\n\u001b[0;32m      1\u001b[0m xdrive\u001b[38;5;241m=\u001b[39mmot\u001b[38;5;241m.\u001b[39mconnectX()\n\u001b[0;32m      2\u001b[0m ydrive\u001b[38;5;241m=\u001b[39mmot\u001b[38;5;241m.\u001b[39mconnectY()\n\u001b[1;32m----> 3\u001b[0m zdrive\u001b[38;5;241m=\u001b[39mmot\u001b[38;5;241m.\u001b[39mconnectZ()\n",
      "File \u001b[1;32m~\\Documents\\MIKEL\\Git Workspaces\\Acquisition2\\Motor_f.py:24\u001b[0m, in \u001b[0;36mconnectZ\u001b[1;34m()\u001b[0m\n\u001b[0;32m     23\u001b[0m \u001b[38;5;28;01mdef\u001b[39;00m \u001b[38;5;21mconnectZ\u001b[39m():\n\u001b[1;32m---> 24\u001b[0m     \u001b[38;5;28;01mreturn\u001b[39;00m zb\u001b[38;5;241m.\u001b[39mconnectZdrive()\n",
      "File \u001b[1;32m~\\Documents\\MIKEL\\Git Workspaces\\Acquisition2\\Devices/Zaber\\Zaber_f.py:14\u001b[0m, in \u001b[0;36mconnectZdrive\u001b[1;34m(com)\u001b[0m\n\u001b[0;32m      8\u001b[0m \u001b[38;5;28;01mdef\u001b[39;00m \u001b[38;5;21mconnectZdrive\u001b[39m(com\u001b[38;5;241m=\u001b[39m\u001b[38;5;124m'\u001b[39m\u001b[38;5;124mCOM5\u001b[39m\u001b[38;5;124m'\u001b[39m):\n\u001b[0;32m      9\u001b[0m \u001b[38;5;250m    \u001b[39m\u001b[38;5;124;03m\"\"\"Connect z_drive, using binary communication protocol\u001b[39;00m\n\u001b[0;32m     10\u001b[0m \u001b[38;5;124;03m        Return:\u001b[39;00m\n\u001b[0;32m     11\u001b[0m \u001b[38;5;124;03m        connz: connection object\u001b[39;00m\n\u001b[0;32m     12\u001b[0m \u001b[38;5;124;03m        zdrive: motor object\u001b[39;00m\n\u001b[0;32m     13\u001b[0m \u001b[38;5;124;03m    \"\"\"\u001b[39;00m\n\u001b[1;32m---> 14\u001b[0m     connz \u001b[38;5;241m=\u001b[39m Connection\u001b[38;5;241m.\u001b[39mopen_serial_port(com)\n\u001b[0;32m     15\u001b[0m     devList \u001b[38;5;241m=\u001b[39m connz\u001b[38;5;241m.\u001b[39mdetect_devices()\n\u001b[0;32m     16\u001b[0m     \u001b[38;5;28mprint\u001b[39m(\u001b[38;5;124m'\u001b[39m\u001b[38;5;124mFound \u001b[39m\u001b[38;5;132;01m{}\u001b[39;00m\u001b[38;5;124m devices\u001b[39m\u001b[38;5;124m'\u001b[39m\u001b[38;5;241m.\u001b[39mformat(devList[\u001b[38;5;241m0\u001b[39m]))\n",
      "File \u001b[1;32m~\\anaconda3\\envs\\HydraHarp\\Lib\\site-packages\\zaber_motion\\binary\\connection.py:91\u001b[0m, in \u001b[0;36mConnection.open_serial_port\u001b[1;34m(port_name, baud_rate, use_message_ids)\u001b[0m\n\u001b[0;32m     89\u001b[0m request\u001b[38;5;241m.\u001b[39muse_message_ids \u001b[38;5;241m=\u001b[39m use_message_ids\n\u001b[0;32m     90\u001b[0m response \u001b[38;5;241m=\u001b[39m main_pb2\u001b[38;5;241m.\u001b[39mOpenInterfaceResponse()\n\u001b[1;32m---> 91\u001b[0m call(\u001b[38;5;124m\"\u001b[39m\u001b[38;5;124mbinary/interface/open\u001b[39m\u001b[38;5;124m\"\u001b[39m, request, response)\n\u001b[0;32m     92\u001b[0m \u001b[38;5;28;01mreturn\u001b[39;00m Connection(response\u001b[38;5;241m.\u001b[39minterface_id)\n",
      "File \u001b[1;32m~\\anaconda3\\envs\\HydraHarp\\Lib\\site-packages\\zaber_motion\\call.py:46\u001b[0m, in \u001b[0;36mcall\u001b[1;34m(request, data, response_data)\u001b[0m\n\u001b[0;32m     42\u001b[0m     \u001b[38;5;28;01mraise\u001b[39;00m \u001b[38;5;167;01mRuntimeError\u001b[39;00m(\u001b[38;5;124mf\u001b[39m\u001b[38;5;124m\"\u001b[39m\u001b[38;5;124mInvalid result code: \u001b[39m\u001b[38;5;132;01m{\u001b[39;00mresult\u001b[38;5;132;01m}\u001b[39;00m\u001b[38;5;124m\"\u001b[39m)\n\u001b[0;32m     44\u001b[0m response_buffers \u001b[38;5;241m=\u001b[39m promise\u001b[38;5;241m.\u001b[39mget()\n\u001b[1;32m---> 46\u001b[0m process_response(response_buffers, response_data)\n",
      "File \u001b[1;32m~\\anaconda3\\envs\\HydraHarp\\Lib\\site-packages\\zaber_motion\\call.py:123\u001b[0m, in \u001b[0;36mprocess_response\u001b[1;34m(response_buffers, response_data)\u001b[0m\n\u001b[0;32m    121\u001b[0m     \u001b[38;5;28;01mif\u001b[39;00m \u001b[38;5;28mlen\u001b[39m(response_buffers) \u001b[38;5;241m>\u001b[39m \u001b[38;5;241m1\u001b[39m:\n\u001b[0;32m    122\u001b[0m         \u001b[38;5;28;01mraise\u001b[39;00m convert_exception(response_proto\u001b[38;5;241m.\u001b[39merror_type, response_proto\u001b[38;5;241m.\u001b[39merror_message, response_buffers[\u001b[38;5;241m1\u001b[39m])\n\u001b[1;32m--> 123\u001b[0m     \u001b[38;5;28;01mraise\u001b[39;00m convert_exception(response_proto\u001b[38;5;241m.\u001b[39merror_type, response_proto\u001b[38;5;241m.\u001b[39merror_message)\n\u001b[0;32m    125\u001b[0m \u001b[38;5;28;01mif\u001b[39;00m \u001b[38;5;28mlen\u001b[39m(response_buffers) \u001b[38;5;241m>\u001b[39m \u001b[38;5;241m1\u001b[39m:\n\u001b[0;32m    126\u001b[0m     \u001b[38;5;28;01mif\u001b[39;00m response_data \u001b[38;5;129;01mis\u001b[39;00m \u001b[38;5;28;01mNone\u001b[39;00m:\n",
      "\u001b[1;31mSerialPortBusyException\u001b[0m: SerialPortBusyException: Cannot open serial port: Port is likely already opened by another application. Please close the application that is using the port."
     ]
    }
   ],
   "source": [
    "xdrive=mot.connectX()\n",
    "ydrive=mot.connectY()\n",
    "zdrive=mot.connectZ()"
   ]
  },
  {
   "cell_type": "code",
   "execution_count": 9,
   "metadata": {},
   "outputs": [
    {
     "data": {
      "text/plain": [
       "True"
      ]
     },
     "execution_count": 9,
     "metadata": {},
     "output_type": "execute_result"
    }
   ],
   "source": [
    "sn = snAPI(libType=LibType.HH)\n",
    "sn.closeDevice()\n",
    "\n",
    "sn.getDevice()\n",
    "sn.initDevice(MeasMode.T2)"
   ]
  },
  {
   "cell_type": "code",
   "execution_count": 12,
   "metadata": {},
   "outputs": [
    {
     "data": {
      "text/plain": [
       "['1039212', '', '', '', '', '', '', '']"
      ]
     },
     "execution_count": 12,
     "metadata": {},
     "output_type": "execute_result"
    }
   ],
   "source": [
    "sn.getDeviceIDs()\n",
    "sn.deviceIDs"
   ]
  },
  {
   "cell_type": "code",
   "execution_count": null,
   "metadata": {},
   "outputs": [],
   "source": [
    "XY_scan(xdrive,ydrive,0,1,10,0,1,10,1,'Trial')"
   ]
  },
  {
   "cell_type": "code",
   "execution_count": 12,
   "metadata": {},
   "outputs": [],
   "source": [
    "sn.setPTUFilePath(\"./PTU.ptu\")\n",
    "sn.histogram.setRefChannel(0)\n",
    "sn.histogram.setBinWidth(10000)\n",
    "sn.histogram.measure(10000,savePTU=True)\n",
    "data, bins = sn.histogram.getData()"
   ]
  },
  {
   "cell_type": "code",
   "execution_count": null,
   "metadata": {},
   "outputs": [],
   "source": []
  }
 ],
 "metadata": {
  "kernelspec": {
   "display_name": "Python 3 (ipykernel)",
   "language": "python",
   "name": "python3"
  },
  "language_info": {
   "codemirror_mode": {
    "name": "ipython",
    "version": 3
   },
   "file_extension": ".py",
   "mimetype": "text/x-python",
   "name": "python",
   "nbconvert_exporter": "python",
   "pygments_lexer": "ipython3",
   "version": "3.11.4"
  },
  "toc": {
   "base_numbering": 1,
   "nav_menu": {},
   "number_sections": true,
   "sideBar": true,
   "skip_h1_title": false,
   "title_cell": "Table of Contents",
   "title_sidebar": "Contents",
   "toc_cell": false,
   "toc_position": {},
   "toc_section_display": true,
   "toc_window_display": false
  },
  "vscode": {
   "interpreter": {
    "hash": "369f2c481f4da34e4445cda3fffd2e751bd1c4d706f27375911949ba6bb62e1c"
   }
  }
 },
 "nbformat": 4,
 "nbformat_minor": 2
}
