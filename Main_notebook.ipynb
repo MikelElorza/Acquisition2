{
 "cells": [
  {
   "cell_type": "markdown",
   "metadata": {},
   "source": [
    "# Import libraries"
   ]
  },
  {
   "cell_type": "code",
   "execution_count": 1,
   "metadata": {},
   "outputs": [
    {
     "ename": "ModuleNotFoundError",
     "evalue": "No module named 'zaber_motion'",
     "output_type": "error",
     "traceback": [
      "\u001b[1;31m---------------------------------------------------------------------------\u001b[0m",
      "\u001b[1;31mModuleNotFoundError\u001b[0m                       Traceback (most recent call last)",
      "\u001b[1;32mc:\\Users\\Mikel\\Documents\\Acquisition\\Acquisition2\\Main_notebook.ipynb Cell 1\u001b[0m line \u001b[0;36m6\n\u001b[0;32m      <a href='vscode-notebook-cell:/c%3A/Users/Mikel/Documents/Acquisition/Acquisition2/Main_notebook.ipynb#W0sZmlsZQ%3D%3D?line=3'>4</a>\u001b[0m \u001b[39mimport\u001b[39;00m \u001b[39mnumpy\u001b[39;00m \u001b[39mas\u001b[39;00m \u001b[39mnp\u001b[39;00m\n\u001b[0;32m      <a href='vscode-notebook-cell:/c%3A/Users/Mikel/Documents/Acquisition/Acquisition2/Main_notebook.ipynb#W0sZmlsZQ%3D%3D?line=4'>5</a>\u001b[0m \u001b[39mfrom\u001b[39;00m \u001b[39msnAPI\u001b[39;00m\u001b[39m.\u001b[39;00m\u001b[39mMain\u001b[39;00m \u001b[39mimport\u001b[39;00m \u001b[39m*\u001b[39m\n\u001b[1;32m----> <a href='vscode-notebook-cell:/c%3A/Users/Mikel/Documents/Acquisition/Acquisition2/Main_notebook.ipynb#W0sZmlsZQ%3D%3D?line=5'>6</a>\u001b[0m \u001b[39mimport\u001b[39;00m \u001b[39mMotor_f\u001b[39;00m \u001b[39mas\u001b[39;00m \u001b[39mmot\u001b[39;00m\n",
      "File \u001b[1;32mc:\\Users\\Mikel\\Documents\\Acquisition\\Acquisition2\\Motor_f.py:15\u001b[0m\n\u001b[0;32m     12\u001b[0m \u001b[39mimport\u001b[39;00m \u001b[39mPiezo_f\u001b[39;00m \u001b[39mas\u001b[39;00m \u001b[39mpz\u001b[39;00m\n\u001b[0;32m     14\u001b[0m sys\u001b[39m.\u001b[39mpath\u001b[39m.\u001b[39mappend(\u001b[39m'\u001b[39m\u001b[39mDevices/Zaber\u001b[39m\u001b[39m'\u001b[39m)\n\u001b[1;32m---> 15\u001b[0m \u001b[39mimport\u001b[39;00m \u001b[39mZaber_f\u001b[39;00m \u001b[39mas\u001b[39;00m \u001b[39mzb\u001b[39;00m\n\u001b[0;32m     17\u001b[0m \u001b[39mdef\u001b[39;00m \u001b[39mconnectX\u001b[39m():\n\u001b[0;32m     18\u001b[0m     \u001b[39mreturn\u001b[39;00m pz\u001b[39m.\u001b[39mconnect_stage(\u001b[39m0\u001b[39m)\n",
      "File \u001b[1;32mc:\\Users\\Mikel\\Documents\\Acquisition\\Acquisition2\\Devices/Zaber\\Zaber_f.py:1\u001b[0m\n\u001b[1;32m----> 1\u001b[0m \u001b[39mfrom\u001b[39;00m \u001b[39mzaber_motion\u001b[39;00m \u001b[39mimport\u001b[39;00m Library\n\u001b[0;32m      2\u001b[0m \u001b[39mfrom\u001b[39;00m \u001b[39mzaber_motion\u001b[39;00m\u001b[39m.\u001b[39;00m\u001b[39mbinary\u001b[39;00m \u001b[39mimport\u001b[39;00m Connection\n\u001b[0;32m      3\u001b[0m \u001b[39mfrom\u001b[39;00m \u001b[39mzaber_motion\u001b[39;00m\u001b[39m.\u001b[39;00m\u001b[39mgcode\u001b[39;00m \u001b[39mimport\u001b[39;00m OfflineTranslator\n",
      "\u001b[1;31mModuleNotFoundError\u001b[0m: No module named 'zaber_motion'"
     ]
    }
   ],
   "source": [
    "import sys\n",
    "import os\n",
    "import time\n",
    "import numpy as np\n",
    "from snAPI.Main import *\n",
    "import Motor_f as mot"
   ]
  },
  {
   "cell_type": "markdown",
   "metadata": {},
   "source": [
    "# Functions"
   ]
  },
  {
   "cell_type": "code",
   "execution_count": null,
   "metadata": {},
   "outputs": [],
   "source": [
    "def focusing(handlez,sn,z0,z1,step):\n",
    "    sn = snAPI(libType=LibType.HH)\n",
    "    sn.getDevice()\n",
    "    sn.initDevice(MeasMode.T2)\n",
    "    sn.device.setSyncDiv(1)\n",
    "    sn.timeTrace.setNumBins(10000)\n",
    "    #sn.timeTrace.setHistorySize(10)  \n",
    "    sn.timeTrace.measure(100000, False, False)\n",
    "    count_arr=np.array([])\n",
    "    z_arr=np.arange(z0,z1,step,wait)\n",
    "    for zi in z_arr:\n",
    "        mot.move_abs_z(zdrive,zi)\n",
    "        time.sleep()\n",
    "        counts, _ = sn.timeTrace.getData() \n",
    "        count_arr=np.append(count_arr,counts)\n",
    "    sn.stopMeasure()\n",
    "    return count_arr,z_arr  "
   ]
  },
  {
   "cell_type": "code",
   "execution_count": null,
   "metadata": {},
   "outputs": [],
   "source": [
    "def XY_scan(handlex,handley,x0,xf,Nx,y0,yf,Ny,wait,folder):# positions in micrometers\n",
    "    #Create the scanning pattern (it is important to be ordered to minimize displacements)\n",
    "    xs=np.linspace(x0,xf,Nx)\n",
    "    ys=np.linspace(y0,yf,Ny)\n",
    "    XY=np.meshgrid(xs,ys)\n",
    "    Order=np.zeros_like(XY[0])\n",
    "    for i in range(0,np.shape(XY[0])[0]):\n",
    "        for j in range(0,np.shape(XY[0])[1]):\n",
    "            if j%2==0:\n",
    "                Order[i,j]=i+Ny*j\n",
    "            else:\n",
    "                Order[i,j]=Nx-i-1+Ny*j\n",
    "    xx,yy,o=XY[0].flatten(),XY[1].flatten(),Order.flatten()\n",
    "    xsorted=[x for _, x in sorted(zip(o,xx))]\n",
    "    ysorted=[x for _, x in sorted(zip(o, yy))]\n",
    "    pairs=np.vstack((xsorted,ysorted)).T\n",
    "    # The points of the scan are saved at pairs (ordered)\n",
    "    for point in pairs:\n",
    "        mot.move_abs_xy(handlex,point[0]/1000) #move functions work in milimeters\n",
    "        mot.move_abs_xy(handley,point[1]/1000)\n",
    "        time.sleep(wait)\n",
    "        sn.setPTUFilePath(\"./Data/{}/PTU_{:.2f}_{:.2f}.ptu\".format(folder,point[0],point[1]))\n",
    "        sn.histogram.setRefChannel(0)\n",
    "        sn.histogram.setBinWidth(1000)\n",
    "        sn.histogram.measure(1000,savePTU=True)\n",
    "    return True"
   ]
  },
  {
   "cell_type": "markdown",
   "metadata": {},
   "source": [
    "# Connections"
   ]
  },
  {
   "cell_type": "markdown",
   "metadata": {},
   "source": [
    "## Connect motors"
   ]
  },
  {
   "cell_type": "markdown",
   "metadata": {},
   "source": [
    "### Piezos (for scanning)"
   ]
  },
  {
   "cell_type": "code",
   "execution_count": null,
   "metadata": {},
   "outputs": [
    {
     "name": "stdout",
     "output_type": "stream",
     "text": [
      "---- Connecting PDXC motor ----\n",
      "Devices=[['01403418', '0403&6015&THORLABS PDXC 1.51&THORLABS&COM11&COM'], ['01404934', '0403&6015&THORLABS PDXC 1.51&THORLABS&COM10&COM']]\n",
      "connect  01403418\n",
      "Found PDX1 stage\n",
      "-- Stage settings --\n",
      "-  closed loop mode  -\n",
      "set loop to closed loop\n",
      "-  Manual Mode  -\n",
      "set trigger mode to manual mode\n",
      "set PositionCalibration home\n",
      "get CalibrationIsCompleted: done\n",
      "set TargetSpeed to 10\n",
      "---- Connecting PDXC motor ----\n",
      "Devices=[['01403418', '0403&6015&THORLABS PDXC 1.51&THORLABS&COM11&COM'], ['01404934', '0403&6015&THORLABS PDXC 1.51&THORLABS&COM10&COM']]\n",
      "connect  01404934\n",
      "Found PDX1 stage\n",
      "-- Stage settings --\n",
      "-  closed loop mode  -\n",
      "set loop to closed loop\n",
      "-  Manual Mode  -\n",
      "set trigger mode to manual mode\n",
      "set PositionCalibration home\n",
      "get CalibrationIsCompleted: done\n",
      "set TargetSpeed to 10\n",
      "Found Device 1 SN: 61516 (T-NA08A25) -> Connection 1 (Binary Serial port: COM5) devices\n",
      "-Homed-\n"
     ]
    }
   ],
   "source": [
    "xdrive=mot.connectX()\n",
    "ydrive=mot.connectY()"
   ]
  },
  {
   "cell_type": "markdown",
   "metadata": {},
   "source": [
    "### Z axis (For focusing)"
   ]
  },
  {
   "cell_type": "code",
   "execution_count": 4,
   "metadata": {},
   "outputs": [
    {
     "ename": "NameError",
     "evalue": "name 'mot' is not defined",
     "output_type": "error",
     "traceback": [
      "\u001b[1;31m---------------------------------------------------------------------------\u001b[0m",
      "\u001b[1;31mNameError\u001b[0m                                 Traceback (most recent call last)",
      "\u001b[1;32mc:\\Users\\Mikel\\Documents\\Acquisition\\Acquisition2\\Main_notebook.ipynb Cell 7\u001b[0m line \u001b[0;36m1\n\u001b[1;32m----> <a href='vscode-notebook-cell:/c%3A/Users/Mikel/Documents/Acquisition/Acquisition2/Main_notebook.ipynb#X16sZmlsZQ%3D%3D?line=0'>1</a>\u001b[0m zdrive\u001b[39m=\u001b[39mmot\u001b[39m.\u001b[39mconnectZ()\n",
      "\u001b[1;31mNameError\u001b[0m: name 'mot' is not defined"
     ]
    }
   ],
   "source": [
    "zdrive=mot.connectZ()"
   ]
  },
  {
   "cell_type": "markdown",
   "metadata": {},
   "source": [
    "## Connect HydraHarp"
   ]
  },
  {
   "cell_type": "code",
   "execution_count": 4,
   "metadata": {},
   "outputs": [
    {
     "data": {
      "text/plain": [
       "True"
      ]
     },
     "execution_count": 4,
     "metadata": {},
     "output_type": "execute_result"
    }
   ],
   "source": [
    "sn = snAPI(libType=LibType.HH)\n",
    "sn.getDeviceIDs()\n",
    "print('Available devices are:'+str(sn.deviceIDs))"
   ]
  },
  {
   "cell_type": "code",
   "execution_count": null,
   "metadata": {},
   "outputs": [],
   "source": [
    "sn.getDevice()\n",
    "sn.getDeviceConfig()\n",
    "print(sn.deviceConfig)"
   ]
  },
  {
   "cell_type": "code",
   "execution_count": null,
   "metadata": {},
   "outputs": [],
   "source": [
    "sn.initDevice(MeasMode.T3)"
   ]
  },
  {
   "cell_type": "markdown",
   "metadata": {},
   "source": [
    "# Measurements"
   ]
  },
  {
   "cell_type": "code",
   "execution_count": 5,
   "metadata": {},
   "outputs": [
    {
     "data": {
      "text/plain": [
       "True"
      ]
     },
     "execution_count": 5,
     "metadata": {},
     "output_type": "execute_result"
    }
   ],
   "source": [
    "XY_scan(xdrive,ydrive,0,1,5,0,1,5,1,'Trial')"
   ]
  },
  {
   "cell_type": "code",
   "execution_count": 12,
   "metadata": {},
   "outputs": [],
   "source": [
    "sn.setPTUFilePath(\"./PTU.ptu\")\n",
    "sn.histogram.setRefChannel(0)\n",
    "sn.histogram.setBinWidth(10000)\n",
    "sn.histogram.measure(10000,savePTU=True)\n",
    "data, bins = sn.histogram.getData()"
   ]
  },
  {
   "cell_type": "code",
   "execution_count": null,
   "metadata": {},
   "outputs": [],
   "source": []
  }
 ],
 "metadata": {
  "kernelspec": {
   "display_name": "Python 3 (ipykernel)",
   "language": "python",
   "name": "python3"
  },
  "language_info": {
   "codemirror_mode": {
    "name": "ipython",
    "version": 3
   },
   "file_extension": ".py",
   "mimetype": "text/x-python",
   "name": "python",
   "nbconvert_exporter": "python",
   "pygments_lexer": "ipython3",
   "version": "3.11.4"
  },
  "toc": {
   "base_numbering": 1,
   "nav_menu": {},
   "number_sections": true,
   "sideBar": true,
   "skip_h1_title": false,
   "title_cell": "Table of Contents",
   "title_sidebar": "Contents",
   "toc_cell": false,
   "toc_position": {},
   "toc_section_display": true,
   "toc_window_display": false
  },
  "vscode": {
   "interpreter": {
    "hash": "369f2c481f4da34e4445cda3fffd2e751bd1c4d706f27375911949ba6bb62e1c"
   }
  }
 },
 "nbformat": 4,
 "nbformat_minor": 2
}
