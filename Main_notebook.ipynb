{
 "cells": [
  {
   "cell_type": "markdown",
   "metadata": {},
   "source": [
    "# Import libraries"
   ]
  },
  {
   "cell_type": "code",
   "execution_count": 1,
   "metadata": {},
   "outputs": [],
   "source": [
    "import sys\n",
    "import os\n",
    "sys.path.append('Devices/Taiko/')\n",
    "import time\n",
    "import numpy as np\n",
    "from snAPI.Main import *\n",
    "import TaikoON_OFF as tk\n",
    "import Motor_f as mot\n",
    "import matplotlib.pyplot as plt"
   ]
  },
  {
   "cell_type": "markdown",
   "metadata": {},
   "source": [
    "# Functions"
   ]
  },
  {
   "cell_type": "code",
   "execution_count": 2,
   "metadata": {},
   "outputs": [],
   "source": [
    "def Focusing(handlez,sn,z0,z1,step,wait):\n",
    "    sn.timeTrace.measure(100000, False, False)\n",
    "    count_arr=np.array([])\n",
    "    z_arr=np.arange(z0,z1,step)\n",
    "    for zi in z_arr:\n",
    "        mot.move_abs_z(zdrive,zi)\n",
    "        sn.timeTrace.clearMeasure()\n",
    "        time.sleep(wait)\n",
    "        counts, _ = sn.timeTrace.getData() \n",
    "        count_arr=np.append(count_arr,np.sum(counts[ch]))\n",
    "    sn.timeTrace.stopMeasure()\n",
    "    return count_arr,z_arr  "
   ]
  },
  {
   "cell_type": "code",
   "execution_count": 1,
   "metadata": {},
   "outputs": [],
   "source": [
    "def GetScanSequence(x0,xf,Nx,y0,yf,Ny):\n",
    "    xs=np.linspace(x0,xf,Nx)\n",
    "    ys=np.linspace(y0,yf,Ny)\n",
    "    XY=np.meshgrid(xs,ys)\n",
    "    Order=np.zeros_like(XY[0])\n",
    "    for i in range(0,np.shape(XY[0])[0]):\n",
    "        for j in range(0,np.shape(XY[0])[1]):\n",
    "            if j%2==0:\n",
    "                Order[i,j]=i+Ny*j\n",
    "            else:\n",
    "                Order[i,j]=Nx-i-1+Ny*j\n",
    "    xx,yy,o=XY[0].flatten(),XY[1].flatten(),Order.flatten()\n",
    "    xsorted=[x for _, x in sorted(zip(o,xx))]\n",
    "    ysorted=[x for _, x in sorted(zip(o, yy))]\n",
    "    pairs=np.vstack((xsorted,ysorted)).T\n",
    "    return pairs"
   ]
  },
  {
   "cell_type": "code",
   "execution_count": 2,
   "metadata": {},
   "outputs": [],
   "source": [
    "def XY_scan_no_markers(handlex,handley,x0,xf,Nx,y0,yf,Ny,texp,folder):# positions in micrometers\n",
    "    #Create the scanning pattern (it is important to be ordered to minimize displacements)\n",
    "    pairs=GetScanSequence(x0,xf,Nx,y0,yf,Ny)\n",
    "    # The points of the scan are saved at pairs (ordered)\n",
    "    prev_point=pairs[0]\n",
    "    for point in pairs:\n",
    "        if point[0]!=prev_point[0]:\n",
    "            mot.move_abs_xy(handlex,point[0]) #move functions work in micrometers\n",
    "        if point[1]!=prev_point[1]:\n",
    "            mot.move_abs_xy(handley,point[1])\n",
    "        timems=int(1000*texp)\n",
    "        sn.setPTUFilePath(impath+\"{}/PTU_{:.2f}_{:.2f}.ptu\".format(folder,point[0],point[1]))\n",
    "        sn.histogram.measure(timems,savePTU=True)\n",
    "        #print('Stages={}, Measure+save={}'.format(t1-t0,t2-t1))\n",
    "    return True"
   ]
  },
  {
   "cell_type": "code",
   "execution_count": 4,
   "metadata": {},
   "outputs": [],
   "source": [
    "def XY_scan_markers(handlex,handley,x0,xf,Nx,y0,yf,Ny,texp,folder):# positions in micrometers\n",
    "    #Create the scanning pattern (it is important to be ordered to minimize displacements)\n",
    "    pairs=GetScanSequence(x0,xf,Nx,y0,yf,Ny)\n",
    "    # The points of the scan are saved at pairs (ordered)\n",
    "    sn.setPTUFilePath(impath+\"{}/PTU.ptu\".format(folder))\n",
    "    sn.histogram.measure(acqTime=0,waitFinished=False,size=134217728,savePTU=True)\n",
    "    for point in pairs:\n",
    "        if point[0]!=prev_point[0]:\n",
    "            mot.move_abs_xy(handlex,point[0]) #move functions work in micrometers\n",
    "        if point[1]!=prev_point[1]:\n",
    "            mot.move_abs_xy(handley,point[1])\n",
    "        time.sleep(texp)\n",
    "    sn.histogram.stopMeasure()\n",
    "    return True"
   ]
  },
  {
   "cell_type": "code",
   "execution_count": 4,
   "metadata": {},
   "outputs": [],
   "source": [
    "def Lifetime(sn,texp):\n",
    "    sn.histogram.measure(texp*1000, True, False)\n",
    "    data, bins = sn.histogram.getData()\n",
    "    return data,bins  "
   ]
  },
  {
   "cell_type": "code",
   "execution_count": 5,
   "metadata": {},
   "outputs": [],
   "source": [
    "def GetCountRate(sn,ch,texp):\n",
    "    sn.initDevice(MeasMode.T2)\n",
    "    sn.timeTrace.measure(texp*1000, True, False)\n",
    "    data, bins = sn.timeTrace.getData()\n",
    "    return np.mean(data[ch])"
   ]
  },
  {
   "cell_type": "code",
   "execution_count": 6,
   "metadata": {},
   "outputs": [],
   "source": [
    "def Timetrace(sn,texp):\n",
    "    sn.timeTrace.setHistorySize(historySize=texp)\n",
    "    sn.timeTrace.measure(texp*1000, True, False)\n",
    "    data, bins = sn.timeTrace.getData()\n",
    "    return data,bins  "
   ]
  },
  {
   "cell_type": "code",
   "execution_count": 51,
   "metadata": {},
   "outputs": [],
   "source": [
    "def create_folder(path):\n",
    "    try: \n",
    "        os.mkdir(path) \n",
    "    except OSError as error: \n",
    "        print(error)  "
   ]
  },
  {
   "cell_type": "markdown",
   "metadata": {},
   "source": [
    "# Connections"
   ]
  },
  {
   "cell_type": "markdown",
   "metadata": {},
   "source": [
    "## Connect motors"
   ]
  },
  {
   "cell_type": "markdown",
   "metadata": {},
   "source": [
    "### Piezos (for scanning)"
   ]
  },
  {
   "cell_type": "code",
   "execution_count": 7,
   "metadata": {},
   "outputs": [
    {
     "name": "stdout",
     "output_type": "stream",
     "text": [
      "---- Connecting PDXC motor ----\n",
      "Devices=[['01403418', '0403&6015&THORLABS PDXC 1.51&THORLABS&COM11&COM'], ['01404934', '0403&6015&THORLABS PDXC 1.51&THORLABS&COM10&COM']]\n",
      "connect  01403418\n",
      "Found PDX1 stage\n",
      "-- Stage settings --\n",
      "-  closed loop mode  -\n",
      "set loop to closed loop\n",
      "-  Manual Mode  -\n",
      "set trigger mode to manual mode\n",
      "set PositionCalibration home\n",
      "get CalibrationIsCompleted: done\n",
      "set TargetSpeed to 20\n",
      "---- Connecting PDXC motor ----\n",
      "Devices=[['01403418', '0403&6015&THORLABS PDXC 1.51&THORLABS&COM11&COM'], ['01404934', '0403&6015&THORLABS PDXC 1.51&THORLABS&COM10&COM']]\n",
      "connect  01404934\n",
      "Found PDX1 stage\n",
      "-- Stage settings --\n",
      "-  closed loop mode  -\n",
      "set loop to closed loop\n",
      "-  Manual Mode  -\n",
      "set trigger mode to manual mode\n",
      "set PositionCalibration home\n",
      "get CalibrationIsCompleted: done\n",
      "set TargetSpeed to 20\n"
     ]
    }
   ],
   "source": [
    "xdrive=mot.connectX()\n",
    "ydrive=mot.connectY()"
   ]
  },
  {
   "cell_type": "markdown",
   "metadata": {},
   "source": [
    "### Z axis (For focusing)"
   ]
  },
  {
   "cell_type": "code",
   "execution_count": 8,
   "metadata": {},
   "outputs": [
    {
     "name": "stdout",
     "output_type": "stream",
     "text": [
      "Found Device 1 SN: 61516 (T-NA08A25) -> Connection 1 (Binary Serial port: COM5) devices\n",
      "-Homed-\n"
     ]
    }
   ],
   "source": [
    "zdrive=mot.connectZ()"
   ]
  },
  {
   "cell_type": "markdown",
   "metadata": {},
   "source": [
    "## Connect HydraHarp"
   ]
  },
  {
   "cell_type": "code",
   "execution_count": 9,
   "metadata": {},
   "outputs": [
    {
     "name": "stdout",
     "output_type": "stream",
     "text": [
      "Available devices are:['', '', '', '', '', '1039212', '', '']\n"
     ]
    }
   ],
   "source": [
    "sn = snAPI(libType=LibType.HH)\n",
    "sn.getDeviceIDs()\n",
    "print('Available devices are:'+str(sn.deviceIDs))"
   ]
  },
  {
   "cell_type": "code",
   "execution_count": 10,
   "metadata": {},
   "outputs": [
    {
     "data": {
      "text/plain": [
       "1"
      ]
     },
     "execution_count": 10,
     "metadata": {},
     "output_type": "execute_result"
    }
   ],
   "source": [
    "sn.getDevice('1039212')\n",
    "sn.initDevice(MeasMode.T3)\n",
    "sn.loadIniConfig(\"config\\HH.ini\")\n",
    "sn.device.setBinning(8)"
   ]
  },
  {
   "cell_type": "code",
   "execution_count": 11,
   "metadata": {},
   "outputs": [
    {
     "name": "stdout",
     "output_type": "stream",
     "text": [
      "{'DeviceType': 0, 'FileDevicePath': '', 'ID': '1039212', 'Index': 5, 'Model': 'HydraHarp 400', 'PartNo': '930021', 'Version': '2.0', 'BaseResolution': 1.0, 'Resolution': 256.0, 'BinSteps': 26, 'NumChans': 4, 'NumMods': 4, 'SyncDivider': 1, 'SyncTrigMode': 'CFD', 'SyncDiscrLvl': 50, 'SyncZeroxLvL': 0, 'SyncChannelOffset': -10000, 'SyncChannelEnable': 1, 'SyncDeadTime': 0, 'HystCode': 0, 'TimingMode': 0, 'StopCount': 4294967295, 'Binning': 8, 'Offset': 0, 'LengthCode': 6, 'NumBins': 32768, 'MeasCtrl': 0, 'StartEdge': 0, 'StopEdge': 0, 'TriggerOutput': 0, 'MarkerHoldoffTime': 0, 'HoldTime': 2, 'OflCompression': 2, 'MarkerEdges': [0, 0, 0, 0], 'MarkerEna': [0, 0, 0, 0], 'ModsCfg': [{'Index': 0, 'ModelCode': 1000, 'VersionCode': 51052545}, {'Index': 1, 'ModelCode': 1010, 'VersionCode': 33554954}, {'Index': 2, 'ModelCode': 1040, 'VersionCode': 18219530}, {'Index': 3, 'ModelCode': 1040, 'VersionCode': 18219530}], 'ChansCfg': [{'Index': 0, 'TrigMode': 'CFD', 'DiscrLvl': 50, 'ZeroXLvl': 0, 'ChanOffs': 0, 'ChanEna': 1, 'DeadTime': 0}, {'Index': 1, 'TrigMode': 'CFD', 'DiscrLvl': 100, 'ZeroXLvl': 0, 'ChanOffs': 0, 'ChanEna': 1, 'DeadTime': 0}, {'Index': 2, 'TrigMode': 'CFD', 'DiscrLvl': 50, 'ZeroXLvl': 20, 'ChanOffs': 0, 'ChanEna': 1, 'DeadTime': 0}, {'Index': 3, 'TrigMode': 'CFD', 'DiscrLvl': 50, 'ZeroXLvl': 20, 'ChanOffs': 0, 'ChanEna': 1, 'DeadTime': 0}], 'MeasMode': 3, 'RefSource': 0}\n"
     ]
    }
   ],
   "source": [
    "sn.getDeviceConfig()\n",
    "print(sn.deviceConfig)"
   ]
  },
  {
   "cell_type": "code",
   "execution_count": 12,
   "metadata": {},
   "outputs": [
    {
     "data": {
      "text/plain": [
       "256.0"
      ]
     },
     "execution_count": 12,
     "metadata": {},
     "output_type": "execute_result"
    }
   ],
   "source": [
    "sn.deviceConfig['Resolution']"
   ]
  },
  {
   "cell_type": "markdown",
   "metadata": {},
   "source": [
    "## Connect Taiko laser"
   ]
  },
  {
   "cell_type": "code",
   "execution_count": 22,
   "metadata": {},
   "outputs": [
    {
     "name": "stdout",
     "output_type": "stream",
     "text": [
      "  [ Python ]                               Library version: 2.1.64.4505\n",
      "\n",
      "  USB-Driver Service: 'WINUSB'; V1.0.0.3, 20.07.2023\n",
      "\n",
      "  USB-Index 0: PDL-M1 with serial number 1047648 found (ready to run)\n",
      "  USB-Index 0: PDL-M1 opened.\n",
      "\n",
      "  - FW   : 2.1.4513\n",
      "  - FPGA : 2.3\n",
      "  - LH   : 1.0\n",
      "\n",
      "  Laser is NOT locked by On/Off Button\n",
      "  Laser is NOT locked by key\n",
      "\n",
      "  Connected laser head:\n",
      "  - laser head type       : LDH-IB-375-B\n",
      "  - date of manufacturing : 23-02-13\n",
      "  - laser power class     : 3B\n",
      "  - frequency range       :   1  Hz -  80 MHz\n",
      "\n",
      "  Frequency currently set :   1 MHz\n",
      "  Frequency now set to    :   1 MHz\n",
      "  Pulse power set to      :   5.0 %  ==>  3.513 μW\n",
      "\n",
      "  Got via TagList:\n",
      "  -                  Frequency :   1 MHz\n",
      "  -                  TempScale :   0  ==>  °C\n",
      "  -                 TargetTemp :  37.0 °C\n",
      "  -               TriggerLevel :   0.000 V\n",
      "  -        LDH_PulsePowerTable :   0  ==> linear power mode\n",
      "  -        TriggerLevelHiLimit :   1.065  W\n",
      "  -         PulsePowerPermille :  50 permille  ==>   5.0 %\n",
      "  -                 PulsePower :   3.513 μW\n",
      "  -                 PulseShape :   1  ==>  \"Narrow Pulses\"\n",
      "\n",
      "  Device GUI unlocked\n"
     ]
    }
   ],
   "source": [
    "laser_id=tk.ON(reprate=1e6,perc=50)"
   ]
  },
  {
   "cell_type": "code",
   "execution_count": 23,
   "metadata": {},
   "outputs": [
    {
     "name": "stdout",
     "output_type": "stream",
     "text": [
      "  Frequency now set to    : 500  permille\n"
     ]
    }
   ],
   "source": [
    "#tk.setRepRate(laser_id,1e6)\n",
    "tk.setPermille(laser_id,500)"
   ]
  },
  {
   "cell_type": "code",
   "execution_count": 21,
   "metadata": {},
   "outputs": [],
   "source": [
    "tk.OFF(laser_id)"
   ]
  },
  {
   "cell_type": "markdown",
   "metadata": {},
   "source": [
    "# Measurements"
   ]
  },
  {
   "cell_type": "markdown",
   "metadata": {},
   "source": [
    "## Data folder"
   ]
  },
  {
   "cell_type": "markdown",
   "metadata": {},
   "source": [
    "Write name of the sample to create a folder for it"
   ]
  },
  {
   "cell_type": "code",
   "execution_count": null,
   "metadata": {},
   "outputs": [],
   "source": [
    "sname='QDe-4'"
   ]
  },
  {
   "cell_type": "code",
   "execution_count": 54,
   "metadata": {},
   "outputs": [],
   "source": [
    "dpath='./Data/'\n",
    "spath=dpath+sname+'/'\n",
    "create_folder(spath)"
   ]
  },
  {
   "cell_type": "markdown",
   "metadata": {},
   "source": [
    "## Select position"
   ]
  },
  {
   "cell_type": "code",
   "execution_count": 17,
   "metadata": {},
   "outputs": [],
   "source": [
    "x0=0 ## positions are in micrometers\n",
    "y0=0\n",
    "mot.move_abs_xy(xdrive,x0)\n",
    "mot.move_abs_xy(ydrive,y0)"
   ]
  },
  {
   "cell_type": "markdown",
   "metadata": {},
   "source": [
    "## Focusing"
   ]
  },
  {
   "cell_type": "code",
   "execution_count": 18,
   "metadata": {},
   "outputs": [],
   "source": [
    "ch=3"
   ]
  },
  {
   "cell_type": "code",
   "execution_count": 29,
   "metadata": {},
   "outputs": [
    {
     "name": "stdout",
     "output_type": "stream",
     "text": [
      "  Frequency now set to    :  10 MHz\n",
      "  Frequency now set to    : 500  permille\n"
     ]
    }
   ],
   "source": [
    "tk.setRepRate(laser_id,1e7)\n",
    "tk.setPermille(laser_id,500)"
   ]
  },
  {
   "cell_type": "code",
   "execution_count": 40,
   "metadata": {},
   "outputs": [],
   "source": [
    "counts,zs=Focusing(zdrive,sn,4160,4170,1,1)"
   ]
  },
  {
   "cell_type": "code",
   "execution_count": 41,
   "metadata": {},
   "outputs": [
    {
     "data": {
      "text/plain": [
       "[<matplotlib.lines.Line2D at 0x1e3b4c85290>]"
      ]
     },
     "execution_count": 41,
     "metadata": {},
     "output_type": "execute_result"
    },
    {
     "data": {
      "image/png": "[encoded data removed]",
      "text/plain": [
       "<Figure size 640x480 with 1 Axes>"
      ]
     },
     "metadata": {},
     "output_type": "display_data"
    }
   ],
   "source": [
    "plt.plot(zs,counts)"
   ]
  },
  {
   "cell_type": "code",
   "execution_count": 42,
   "metadata": {},
   "outputs": [],
   "source": [
    "mot.move_abs_z(zdrive,4164)"
   ]
  },
  {
   "cell_type": "markdown",
   "metadata": {},
   "source": [
    "## Check count rates"
   ]
  },
  {
   "cell_type": "code",
   "execution_count": 32,
   "metadata": {},
   "outputs": [
    {
     "name": "stdout",
     "output_type": "stream",
     "text": [
      "  Frequency now set to    : 500  permille\n",
      "  Frequency now set to    : 0 Gpermille\n",
      "Sync count rate: 99914.0\n",
      "Channel count rate: 99.9\n",
      "Pulses per sync (%): 0.09998598794963669\n"
     ]
    }
   ],
   "source": [
    "tk.setPermille(laser_id,500)\n",
    "sync_cr=GetCountRate(sn,0,1)\n",
    "ch_cr=GetCountRate(sn,3,1)\n",
    "tk.setPermille(laser_id,0)\n",
    "print('Sync count rate: {}'.format(sync_cr))\n",
    "print('Channel count rate: {}'.format(ch_cr))\n",
    "print('Pulses per sync (%): {}'.format(ch_cr/sync_cr*100))"
   ]
  },
  {
   "cell_type": "markdown",
   "metadata": {},
   "source": [
    "## Timetrace"
   ]
  },
  {
   "cell_type": "code",
   "execution_count": 44,
   "metadata": {},
   "outputs": [],
   "source": [
    "x0=0 ## positions are in micrometers\n",
    "y0=0\n",
    "\n",
    "mot.move_abs_xy(xdrive,x0)\n",
    "mot.move_abs_xy(ydrive,y0)"
   ]
  },
  {
   "cell_type": "code",
   "execution_count": null,
   "metadata": {},
   "outputs": [],
   "source": [
    "save=False\n",
    "if save:\n",
    "    ttpath=spath+'TimeTraces/'\n",
    "    create_folder(ttpath)"
   ]
  },
  {
   "cell_type": "code",
   "execution_count": 45,
   "metadata": {},
   "outputs": [
    {
     "name": "stdout",
     "output_type": "stream",
     "text": [
      "  Frequency now set to    :  10 MHz\n",
      "  Frequency now set to    : 1 kpermille\n",
      "  Frequency now set to    : 0 Gpermille\n"
     ]
    }
   ],
   "source": [
    "if save:\n",
    "    sn.setPTUFilePath(ttpath+\"PTU_{:.2f}_{:.2f}.ptu\".format(folder,point[0],point[1]))\n",
    "texp=10\n",
    "tk.setRepRate(laser_id,1e7)\n",
    "tk.setPermille(laser_id,1000)\n",
    "sn.timeTrace.setHistorySize(historySize=texp)\n",
    "sn.timeTrace.setNumBins(numBins=500)\n",
    "sn.timeTrace.measure(texp*1000, True, save)\n",
    "data, bins = sn.timeTrace.getData()\n",
    "tk.setPermille(laser_id,0)"
   ]
  },
  {
   "cell_type": "code",
   "execution_count": 46,
   "metadata": {},
   "outputs": [
    {
     "data": {
      "text/plain": [
       "[<matplotlib.lines.Line2D at 0x1e3b70fec50>]"
      ]
     },
     "execution_count": 46,
     "metadata": {},
     "output_type": "execute_result"
    },
    {
     "data": {
      "image/png": "[encoded data removed]",
      "text/plain": [
       "<Figure size 640x480 with 1 Axes>"
      ]
     },
     "metadata": {},
     "output_type": "display_data"
    }
   ],
   "source": [
    "plt.plot(bins,data[3])"
   ]
  },
  {
   "cell_type": "code",
   "execution_count": 51,
   "metadata": {},
   "outputs": [
    {
     "data": {
      "text/plain": [
       "array([89.995, 89.996, 89.997, ..., 99.992, 99.993, 99.994])"
      ]
     },
     "execution_count": 51,
     "metadata": {},
     "output_type": "execute_result"
    }
   ],
   "source": [
    "bins"
   ]
  },
  {
   "cell_type": "markdown",
   "metadata": {},
   "source": [
    "## Lifetime measurement"
   ]
  },
  {
   "cell_type": "code",
   "execution_count": 47,
   "metadata": {},
   "outputs": [
    {
     "data": {
      "text/plain": [
       "1"
      ]
     },
     "execution_count": 47,
     "metadata": {},
     "output_type": "execute_result"
    }
   ],
   "source": [
    "sn.initDevice(MeasMode.T3)\n",
    "sn.loadIniConfig(\"config\\HH.ini\")\n",
    "sn.device.setBinning(8)"
   ]
  },
  {
   "cell_type": "code",
   "execution_count": 48,
   "metadata": {},
   "outputs": [
    {
     "name": "stdout",
     "output_type": "stream",
     "text": [
      "  Frequency now set to    :   1 MHz\n",
      "  Frequency now set to    : 500  permille\n",
      "Measuring\n",
      "  Frequency now set to    : 0 Gpermille\n"
     ]
    }
   ],
   "source": [
    "tk.setRepRate(laser_id,1e6)\n",
    "tk.setPermille(laser_id,500)\n",
    "print('Measuring')\n",
    "data,bins=Lifetime(sn,10)\n",
    "tk.setPermille(laser_id,0)"
   ]
  },
  {
   "cell_type": "code",
   "execution_count": 49,
   "metadata": {},
   "outputs": [
    {
     "data": {
      "text/plain": [
       "(0.0, 1000.0)"
      ]
     },
     "execution_count": 49,
     "metadata": {},
     "output_type": "execute_result"
    },
    {
     "data": {
      "image/png": "[encoded data removed]",
      "text/plain": [
       "<Figure size 640x480 with 1 Axes>"
      ]
     },
     "metadata": {},
     "output_type": "display_data"
    }
   ],
   "source": [
    "\n",
    "plt.plot(bins,data[3])\n",
    "plt.yscale('log')\n",
    "#plt.xscale('log')\n",
    "plt.xlim([0,1e3])"
   ]
  },
  {
   "cell_type": "markdown",
   "metadata": {},
   "source": [
    "## Scanning"
   ]
  },
  {
   "cell_type": "code",
   "execution_count": 50,
   "metadata": {},
   "outputs": [
    {
     "name": "stdout",
     "output_type": "stream",
     "text": [
      "  Frequency now set to    :  10 MHz\n",
      "  Frequency now set to    : 500  permille\n",
      "  Frequency now set to    : 0 Gpermille\n"
     ]
    }
   ],
   "source": [
    "xran=50\n",
    "yran=50\n",
    "nx=50\n",
    "ny=50\n",
    "texp=0.1\n",
    "tk.setRepRate(laser_id,1e7)\n",
    "tk.setPermille(laser_id,500)\n",
    "XY_scan(xdrive,ydrive,x0-xran/2,x0+xran/2,nx,y0-yran/2,y0+yran/2,ny,texp,'QD1e-4_large')\n",
    "tk.setPermille(laser_id,0)"
   ]
  },
  {
   "cell_type": "code",
   "execution_count": null,
   "metadata": {},
   "outputs": [],
   "source": []
  }
 ],
 "metadata": {
  "kernelspec": {
   "display_name": "Python 3 (ipykernel)",
   "language": "python",
   "name": "python3"
  },
  "language_info": {
   "codemirror_mode": {
    "name": "ipython",
    "version": 3
   },
   "file_extension": ".py",
   "mimetype": "text/x-python",
   "name": "python",
   "nbconvert_exporter": "python",
   "pygments_lexer": "ipython3",
   "version": "3.11.4"
  },
  "toc": {
   "base_numbering": 1,
   "nav_menu": {},
   "number_sections": true,
   "sideBar": true,
   "skip_h1_title": false,
   "title_cell": "Table of Contents",
   "title_sidebar": "Contents",
   "toc_cell": false,
   "toc_position": {},
   "toc_section_display": true,
   "toc_window_display": false
  },
  "vscode": {
   "interpreter": {
    "hash": "369f2c481f4da34e4445cda3fffd2e751bd1c4d706f27375911949ba6bb62e1c"
   }
  }
 },
 "nbformat": 4,
 "nbformat_minor": 2
}
