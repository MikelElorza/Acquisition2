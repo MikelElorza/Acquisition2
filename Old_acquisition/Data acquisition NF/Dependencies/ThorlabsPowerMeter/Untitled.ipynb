{
 "cells": [
  {
   "cell_type": "code",
   "execution_count": 3,
   "id": "177472cd",
   "metadata": {},
   "outputs": [
    {
     "name": "stdout",
     "output_type": "stream",
     "text": [
      "devices found: 1\n",
      "b'USB0::0x1313::0x8078::P0039845::INSTR'\n",
      "b'24-Feb-2023'\n",
      "2.73877849e-05\n",
      "2.75565617e-05\n",
      "2.7465625e-05\n",
      "2.74925951e-05\n",
      "2.73870155e-05\n",
      "2.75295879e-05\n",
      "2.74378799e-05\n",
      "2.73577298e-05\n",
      "2.75033854e-05\n",
      "2.75372931e-05\n",
      "2.7433256e-05\n",
      "2.74818085e-05\n",
      "2.74216964e-05\n",
      "2.75850762e-05\n",
      "2.76290048e-05\n",
      "2.74841204e-05\n",
      "2.7545002e-05\n",
      "2.74694758e-05\n",
      "2.73454007e-05\n",
      "2.75295879e-05\n",
      "End program\n"
     ]
    }
   ],
   "source": [
    "from datetime import datetime\n",
    "from ctypes import cdll,c_long, c_ulong, c_uint32,byref,create_string_buffer,c_bool,c_char_p,c_int,c_int16,c_double, sizeof, c_voidp\n",
    "from TLPM import TLPM\n",
    "import time\n",
    "import sys\n",
    "import os\n",
    "\n",
    "os.add_dll_directory(os.getcwd())\n",
    "\n",
    "tlPM = TLPM()\n",
    "deviceCount = c_uint32()\n",
    "tlPM.findRsrc(byref(deviceCount))\n",
    "\n",
    "print(\"devices found: \" + str(deviceCount.value))\n",
    "resourceName = create_string_buffer(1024)\n",
    "\n",
    "for i in range(0, deviceCount.value):\n",
    "    tlPM.getRsrcName(c_int(i), resourceName)\n",
    "    print(c_char_p(resourceName.raw).value)\n",
    "    break\n",
    "\n",
    "tlPM.close()\n",
    "\n",
    "tlPM = TLPM()\n",
    "#resourceName = create_string_buffer(b\"COM1::115200\")\n",
    "#print(c_char_p(resourceName.raw).value)\n",
    "tlPM.open(resourceName, c_bool(True), c_bool(True))\n",
    "\n",
    "message = create_string_buffer(1024)\n",
    "tlPM.getCalibrationMsg(message)\n",
    "tlPM.setWavelength(c_double(325))\n",
    "\n",
    "print(c_char_p(message.raw).value)\n",
    "\n",
    "time.sleep(5)\n",
    "\n",
    "power_measurements = []\n",
    "times = []\n",
    "count = 0\n",
    "while count < 20:\n",
    "    power =  c_double()\n",
    "    tlPM.measPower(byref(power))\n",
    "    power_measurements.append(power.value)\n",
    "    times.append(datetime.now())\n",
    "    print(power.value)\n",
    "    count+=1\n",
    "    time.sleep(1)\n",
    "\n",
    "tlPM.close()\n",
    "print('End program')\n"
   ]
  },
  {
   "cell_type": "code",
   "execution_count": null,
   "id": "007f78c2",
   "metadata": {},
   "outputs": [],
   "source": []
  }
 ],
 "metadata": {
  "kernelspec": {
   "display_name": "Python 3 (ipykernel)",
   "language": "python",
   "name": "python3"
  },
  "language_info": {
   "codemirror_mode": {
    "name": "ipython",
    "version": 3
   },
   "file_extension": ".py",
   "mimetype": "text/x-python",
   "name": "python",
   "nbconvert_exporter": "python",
   "pygments_lexer": "ipython3",
   "version": "3.9.12"
  }
 },
 "nbformat": 4,
 "nbformat_minor": 5
}
