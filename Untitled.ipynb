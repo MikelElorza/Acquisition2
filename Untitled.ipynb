{
 "cells": [
  {
   "cell_type": "code",
   "execution_count": 2,
   "id": "d1588800",
   "metadata": {},
   "outputs": [],
   "source": [
    "import os"
   ]
  },
  {
   "cell_type": "code",
   "execution_count": 1,
   "id": "ebee9d51",
   "metadata": {},
   "outputs": [],
   "source": [
    "def create_folder(path):\n",
    "    try: \n",
    "        os.mkdir(path) \n",
    "    except OSError as error: \n",
    "        print(error)  "
   ]
  },
  {
   "cell_type": "code",
   "execution_count": 5,
   "id": "5fcbbf31",
   "metadata": {},
   "outputs": [],
   "source": [
    "create_folder('Prueba')"
   ]
  },
  {
   "cell_type": "code",
   "execution_count": 4,
   "id": "0047ff09",
   "metadata": {},
   "outputs": [
    {
     "name": "stdout",
     "output_type": "stream",
     "text": [
      "[WinError 183] No se puede crear un archivo que ya existe: 'Prueba'\n"
     ]
    }
   ],
   "source": [
    "create_folder('Prueba')"
   ]
  },
  {
   "cell_type": "code",
   "execution_count": null,
   "id": "0bcafd92",
   "metadata": {},
   "outputs": [],
   "source": []
  }
 ],
 "metadata": {
  "kernelspec": {
   "display_name": "Python 3 (ipykernel)",
   "language": "python",
   "name": "python3"
  },
  "language_info": {
   "codemirror_mode": {
    "name": "ipython",
    "version": 3
   },
   "file_extension": ".py",
   "mimetype": "text/x-python",
   "name": "python",
   "nbconvert_exporter": "python",
   "pygments_lexer": "ipython3",
   "version": "3.11.4"
  },
  "toc": {
   "base_numbering": 1,
   "nav_menu": {},
   "number_sections": true,
   "sideBar": true,
   "skip_h1_title": false,
   "title_cell": "Table of Contents",
   "title_sidebar": "Contents",
   "toc_cell": false,
   "toc_position": {},
   "toc_section_display": true,
   "toc_window_display": false
  }
 },
 "nbformat": 4,
 "nbformat_minor": 5
}
