{
 "cells": [
  {
   "cell_type": "code",
   "execution_count": 1,
   "metadata": {},
   "outputs": [],
   "source": [
    "import sys\n",
    "import os"
   ]
  },
  {
   "cell_type": "code",
   "execution_count": 2,
   "metadata": {},
   "outputs": [],
   "source": [
    "sys.path.append('../Devices/PDXC/Thorlabs_PDXC_PythonSDK')"
   ]
  },
  {
   "cell_type": "code",
   "execution_count": 3,
   "metadata": {},
   "outputs": [],
   "source": [
    "import Piezo_f as pz"
   ]
  },
  {
   "cell_type": "code",
   "execution_count": 4,
   "metadata": {},
   "outputs": [],
   "source": [
    "from Motor_f import *"
   ]
  },
  {
   "cell_type": "code",
   "execution_count": 5,
   "metadata": {},
   "outputs": [
    {
     "name": "stdout",
     "output_type": "stream",
     "text": [
      "---- Connecting PDXC motor ----\n"
     ]
    },
    {
     "ename": "FileNotFoundError",
     "evalue": "Could not find module 'C:\\Users\\NEXT-BOLD\\Documents\\MIKEL\\DataAcquisitionNF\\Git\\Acquisition-master\\Functions\\PDXC_COMMAND_LIB_win64.dll' (or one of its dependencies). Try using the full path with constructor syntax.",
     "output_type": "error",
     "traceback": [
      "\u001b[1;31m---------------------------------------------------------------------------\u001b[0m",
      "\u001b[1;31mFileNotFoundError\u001b[0m                         Traceback (most recent call last)",
      "Cell \u001b[1;32mIn[5], line 1\u001b[0m\n\u001b[1;32m----> 1\u001b[0m xd\u001b[38;5;241m=\u001b[39mconnectX()\n",
      "File \u001b[1;32m~\\Documents\\MIKEL\\DataAcquisitionNF\\Git\\Acquisition-master\\Functions\\Motor_f.py:15\u001b[0m, in \u001b[0;36mconnectX\u001b[1;34m()\u001b[0m\n\u001b[0;32m     14\u001b[0m \u001b[38;5;28;01mdef\u001b[39;00m \u001b[38;5;21mconnectX\u001b[39m():\n\u001b[1;32m---> 15\u001b[0m     pz\u001b[38;5;241m.\u001b[39mconnect_stage(\u001b[38;5;241m0\u001b[39m)\n",
      "File \u001b[1;32m~\\Documents\\MIKEL\\DataAcquisitionNF\\Git\\Acquisition-master\\Functions\\../Devices/PDXC/Thorlabs_PDXC_PythonSDK\\Piezo_f.py:43\u001b[0m, in \u001b[0;36mconnect_stage\u001b[1;34m(i)\u001b[0m\n\u001b[0;32m     41\u001b[0m \u001b[38;5;28;01mdef\u001b[39;00m \u001b[38;5;21mconnect_stage\u001b[39m(i):\n\u001b[0;32m     42\u001b[0m     \u001b[38;5;28mprint\u001b[39m(\u001b[38;5;124m\"\u001b[39m\u001b[38;5;124m---- Connecting PDXC motor ----\u001b[39m\u001b[38;5;124m\"\u001b[39m)\n\u001b[1;32m---> 43\u001b[0m     pdxcobj \u001b[38;5;241m=\u001b[39m pdxc()\n\u001b[0;32m     44\u001b[0m     \u001b[38;5;28;01mtry\u001b[39;00m:\n\u001b[0;32m     45\u001b[0m         devs \u001b[38;5;241m=\u001b[39m pdxc\u001b[38;5;241m.\u001b[39mListDevices()\n",
      "File \u001b[1;32m~\\Documents\\MIKEL\\DataAcquisitionNF\\Git\\Acquisition-master\\Functions\\../Devices/PDXC/Thorlabs_PDXC_PythonSDK\\PDXC_COMMAND_LIB.py:44\u001b[0m, in \u001b[0;36mpdxc.__init__\u001b[1;34m(self)\u001b[0m\n\u001b[0;32m     42\u001b[0m lib_path \u001b[38;5;241m=\u001b[39m \u001b[38;5;124m\"\u001b[39m\u001b[38;5;124m./PDXC_COMMAND_LIB_win64.dll\u001b[39m\u001b[38;5;124m\"\u001b[39m\n\u001b[0;32m     43\u001b[0m \u001b[38;5;28;01mif\u001b[39;00m \u001b[38;5;129;01mnot\u001b[39;00m pdxc\u001b[38;5;241m.\u001b[39misLoad:\n\u001b[1;32m---> 44\u001b[0m     pdxc\u001b[38;5;241m.\u001b[39mload_library(lib_path)\n\u001b[0;32m     45\u001b[0m \u001b[38;5;28mself\u001b[39m\u001b[38;5;241m.\u001b[39mhdl \u001b[38;5;241m=\u001b[39m \u001b[38;5;241m-\u001b[39m\u001b[38;5;241m1\u001b[39m\n",
      "File \u001b[1;32m~\\Documents\\MIKEL\\DataAcquisitionNF\\Git\\Acquisition-master\\Functions\\../Devices/PDXC/Thorlabs_PDXC_PythonSDK\\PDXC_COMMAND_LIB.py:38\u001b[0m, in \u001b[0;36mpdxc.load_library\u001b[1;34m(path)\u001b[0m\n\u001b[0;32m     36\u001b[0m \u001b[38;5;129m@staticmethod\u001b[39m\n\u001b[0;32m     37\u001b[0m \u001b[38;5;28;01mdef\u001b[39;00m \u001b[38;5;21mload_library\u001b[39m(path):\n\u001b[1;32m---> 38\u001b[0m     pdxc\u001b[38;5;241m.\u001b[39mpdxcLib \u001b[38;5;241m=\u001b[39m cdll\u001b[38;5;241m.\u001b[39mLoadLibrary(path)\n\u001b[0;32m     39\u001b[0m     pdxc\u001b[38;5;241m.\u001b[39misLoad \u001b[38;5;241m=\u001b[39m \u001b[38;5;28;01mTrue\u001b[39;00m\n",
      "File \u001b[1;32m~\\anaconda3\\envs\\HydraHarp\\Lib\\ctypes\\__init__.py:454\u001b[0m, in \u001b[0;36mLibraryLoader.LoadLibrary\u001b[1;34m(self, name)\u001b[0m\n\u001b[0;32m    453\u001b[0m \u001b[38;5;28;01mdef\u001b[39;00m \u001b[38;5;21mLoadLibrary\u001b[39m(\u001b[38;5;28mself\u001b[39m, name):\n\u001b[1;32m--> 454\u001b[0m     \u001b[38;5;28;01mreturn\u001b[39;00m \u001b[38;5;28mself\u001b[39m\u001b[38;5;241m.\u001b[39m_dlltype(name)\n",
      "File \u001b[1;32m~\\anaconda3\\envs\\HydraHarp\\Lib\\ctypes\\__init__.py:376\u001b[0m, in \u001b[0;36mCDLL.__init__\u001b[1;34m(self, name, mode, handle, use_errno, use_last_error, winmode)\u001b[0m\n\u001b[0;32m    373\u001b[0m \u001b[38;5;28mself\u001b[39m\u001b[38;5;241m.\u001b[39m_FuncPtr \u001b[38;5;241m=\u001b[39m _FuncPtr\n\u001b[0;32m    375\u001b[0m \u001b[38;5;28;01mif\u001b[39;00m handle \u001b[38;5;129;01mis\u001b[39;00m \u001b[38;5;28;01mNone\u001b[39;00m:\n\u001b[1;32m--> 376\u001b[0m     \u001b[38;5;28mself\u001b[39m\u001b[38;5;241m.\u001b[39m_handle \u001b[38;5;241m=\u001b[39m _dlopen(\u001b[38;5;28mself\u001b[39m\u001b[38;5;241m.\u001b[39m_name, mode)\n\u001b[0;32m    377\u001b[0m \u001b[38;5;28;01melse\u001b[39;00m:\n\u001b[0;32m    378\u001b[0m     \u001b[38;5;28mself\u001b[39m\u001b[38;5;241m.\u001b[39m_handle \u001b[38;5;241m=\u001b[39m handle\n",
      "\u001b[1;31mFileNotFoundError\u001b[0m: Could not find module 'C:\\Users\\NEXT-BOLD\\Documents\\MIKEL\\DataAcquisitionNF\\Git\\Acquisition-master\\Functions\\PDXC_COMMAND_LIB_win64.dll' (or one of its dependencies). Try using the full path with constructor syntax."
     ]
    }
   ],
   "source": [
    "xd=connectX()"
   ]
  },
  {
   "cell_type": "code",
   "execution_count": null,
   "metadata": {},
   "outputs": [],
   "source": []
  }
 ],
 "metadata": {
  "kernelspec": {
   "display_name": "Python 3 (ipykernel)",
   "language": "python",
   "name": "python3"
  },
  "language_info": {
   "codemirror_mode": {
    "name": "ipython",
    "version": 3
   },
   "file_extension": ".py",
   "mimetype": "text/x-python",
   "name": "python",
   "nbconvert_exporter": "python",
   "pygments_lexer": "ipython3",
   "version": "3.11.4"
  },
  "toc": {
   "base_numbering": 1,
   "nav_menu": {},
   "number_sections": true,
   "sideBar": true,
   "skip_h1_title": false,
   "title_cell": "Table of Contents",
   "title_sidebar": "Contents",
   "toc_cell": false,
   "toc_position": {},
   "toc_section_display": true,
   "toc_window_display": false
  },
  "vscode": {
   "interpreter": {
    "hash": "369f2c481f4da34e4445cda3fffd2e751bd1c4d706f27375911949ba6bb62e1c"
   }
  }
 },
 "nbformat": 4,
 "nbformat_minor": 2
}
