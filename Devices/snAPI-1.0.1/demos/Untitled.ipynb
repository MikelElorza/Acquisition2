{
 "cells": [
  {
   "cell_type": "code",
   "execution_count": null,
   "id": "94ff95ba",
   "metadata": {},
   "outputs": [
    {
     "name": "stdout",
     "output_type": "stream",
     "text": [
      "Switched to: TkAgg\n"
     ]
    }
   ],
   "source": [
    "from snAPI.Main import *\n",
    "import matplotlib\n",
    "matplotlib.use('TkAgg',force=True)\n",
    "from matplotlib import pyplot as plt\n",
    "print(\"Switched to:\",matplotlib.get_backend())\n",
    "\n",
    "if(__name__ == \"__main__\"):\n",
    "    \n",
    "    # select the device library\n",
    "    sn = snAPI(libType=LibType.HH)\n",
    "    # get first available device\n",
    "    sn.getDevice()\n",
    "    sn.setLogLevel(logLevel=LogLevel.DataFile, onOff=True)\n",
    "    \n",
    "    #initialize the device\n",
    "    sn.initDevice(MeasMode.T2)\n",
    "    \n",
    "    # set the configuration for your device type\n",
    "    sn.loadIniConfig(\"config\\HH.ini\")\n",
    "    \n",
    "    # start histogram measurement\n",
    "    sn.histogram.measure(acqTime=1000,savePTU=True)\n",
    "    \n",
    "    # get the data\n",
    "    data, bins = sn.histogram.getData()\n",
    "    \n",
    "    # plot the histogram\n",
    "    if len(data):\n",
    "        plt.clf()\n",
    "        plt.plot(bins, data[0], linewidth=2.0, label='sync')\n",
    "        for c in range(1, 1+sn.deviceConfig[\"NumChans\"]):\n",
    "            plt.plot(bins, data[c], linewidth=2.0, label=f'chan{c}')\n",
    "        plt.xlabel('Time [ps]')\n",
    "        plt.ylabel('Counts')\n",
    "        plt.legend()\n",
    "        plt.title(\"Counts / Time\")\n",
    "        plt.pause(0.01)\n",
    "\n",
    "    plt.show(block=True)"
   ]
  },
  {
   "cell_type": "code",
   "execution_count": null,
   "id": "29abc896",
   "metadata": {},
   "outputs": [],
   "source": []
  }
 ],
 "metadata": {
  "kernelspec": {
   "display_name": "Python 3 (ipykernel)",
   "language": "python",
   "name": "python3"
  },
  "language_info": {
   "codemirror_mode": {
    "name": "ipython",
    "version": 3
   },
   "file_extension": ".py",
   "mimetype": "text/x-python",
   "name": "python",
   "nbconvert_exporter": "python",
   "pygments_lexer": "ipython3",
   "version": "3.11.4"
  },
  "toc": {
   "base_numbering": 1,
   "nav_menu": {},
   "number_sections": true,
   "sideBar": true,
   "skip_h1_title": false,
   "title_cell": "Table of Contents",
   "title_sidebar": "Contents",
   "toc_cell": false,
   "toc_position": {},
   "toc_section_display": true,
   "toc_window_display": false
  }
 },
 "nbformat": 4,
 "nbformat_minor": 5
}
