{
 "cells": [
  {
   "cell_type": "code",
   "execution_count": 2,
   "id": "9002174c",
   "metadata": {},
   "outputs": [
    {
     "name": "stdout",
     "output_type": "stream",
     "text": [
      "Switched to: TkAgg\n"
     ]
    }
   ],
   "source": [
    "from snAPI.Main import *\n",
    "import matplotlib\n",
    "matplotlib.use('TkAgg',force=True)\n",
    "from matplotlib import pyplot as plt\n",
    "print(\"Switched to:\",matplotlib.get_backend())\n",
    "\n",
    "if(__name__ == \"__main__\"):\n",
    "\n",
    "    sn = snAPI(libType=LibType.HH)\n",
    "    sn.getDevice()\n",
    "    #sn.getFileDevice(r\"E:\\Data\\PicoQuant\\MH160_Sun.ptu\")\n",
    "    #sn.getFileDevice(r\"E:\\Data\\PicoQuant\\CW_Shelved.ptu\")\n",
    "    #sn.getFileDevice(r\"C:\\Data\\PicoQuant\\default_1.ptu\")\n",
    "    sn.initDevice(MeasMode.T2)\n",
    "    sn.device.setSyncDiv(1)\n",
    "    sn.timeTrace.setNumBins(10000)\n",
    "    sn.timeTrace.setHistorySize(10)\n",
    "    #sn.setPTUFilePath(r\"test_the_best\")\n",
    "    \n",
    "    keepChannels = True\n",
    "    \n",
    "    # hChans = sn.manipulators.herald(0, [1,2], 66000, 100000, keepChannels)\n",
    "    #ci = sn.manipulators.coincidence([1, 2], 10000, keepChannels)\n",
    "    # cd = sn.manipulators.delay(1, 1000000000, keepChannels)\n",
    "    # cm = sn.manipulators.merge([hChans[0], hChans[1]], keepChannels)    \n",
    "    \n",
    "    sn.timeTrace.measure(100000, False, False)\n",
    "    \n",
    "    while True: \n",
    "        finished = sn.timeTrace.isFinished()\n",
    "        counts, times = sn.timeTrace.getData() \n",
    "        plt.clf()\n",
    "        plt.plot(times, counts[0], linewidth=2.0, label='sync')\n",
    "        plt.plot(times, counts[1], linewidth=2.0, label='chan1')\n",
    "        plt.plot(times, counts[2], linewidth=2.0, label='chan2')\n",
    "        # plt.plot(times, counts[hChans[0]], linewidth=2.0, label='hChan1')\n",
    "        # plt.plot(times, counts[hChans[1]], linewidth=2.0, label='hChan2')\n",
    "        #plt.plot(times, counts[ci], linewidth=2.0, label='coincidence 1&2-1ns')\n",
    "        # plt.plot(times, counts[cd], linewidth=2.0, label='delay 1ms')\n",
    "        # plt.plot(times, counts[cm], linewidth=2.0, label='merged h1&h2')\n",
    "\n",
    "        plt.xlabel('Time [s]')\n",
    "        plt.ylabel('Counts[Cts/s]')\n",
    "        plt.legend()\n",
    "        plt.title(\"TimeTrace\")\n",
    "        plt.pause(0.1)\n",
    "        \n",
    "        if finished:\n",
    "            break\n",
    "    \n",
    "    plt.show(block=True)\n"
   ]
  },
  {
   "cell_type": "code",
   "execution_count": null,
   "id": "2455f1b5",
   "metadata": {},
   "outputs": [],
   "source": []
  }
 ],
 "metadata": {
  "kernelspec": {
   "display_name": "Python 3 (ipykernel)",
   "language": "python",
   "name": "python3"
  },
  "language_info": {
   "codemirror_mode": {
    "name": "ipython",
    "version": 3
   },
   "file_extension": ".py",
   "mimetype": "text/x-python",
   "name": "python",
   "nbconvert_exporter": "python",
   "pygments_lexer": "ipython3",
   "version": "3.11.4"
  },
  "toc": {
   "base_numbering": 1,
   "nav_menu": {},
   "number_sections": true,
   "sideBar": true,
   "skip_h1_title": false,
   "title_cell": "Table of Contents",
   "title_sidebar": "Contents",
   "toc_cell": false,
   "toc_position": {},
   "toc_section_display": true,
   "toc_window_display": false
  }
 },
 "nbformat": 4,
 "nbformat_minor": 5
}
